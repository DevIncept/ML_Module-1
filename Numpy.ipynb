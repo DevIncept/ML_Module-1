{
 "cells": [
  {
   "cell_type": "markdown",
   "metadata": {},
   "source": [
    "Importing"
   ]
  },
  {
   "cell_type": "code",
   "execution_count": 2,
   "metadata": {},
   "outputs": [],
   "source": [
    "import numpy as np"
   ]
  },
  {
   "cell_type": "markdown",
   "metadata": {},
   "source": [
    "Creating Numpy array"
   ]
  },
  {
   "cell_type": "code",
   "execution_count": 10,
   "metadata": {},
   "outputs": [
    {
     "name": "stdout",
     "output_type": "stream",
     "text": [
      "[1 2 3]\n",
      "['a' 'b' 'c' 'd' 'e']\n"
     ]
    }
   ],
   "source": [
    "import numpy as np\n",
    "arr1=np.array([1,2,3])\n",
    "arr2=np.array(['a','b','c','d','e'])\n",
    "print(arr1)\n",
    "print(arr2)"
   ]
  },
  {
   "cell_type": "markdown",
   "metadata": {},
   "source": [
    "Creating numpy arrays from python lists"
   ]
  },
  {
   "cell_type": "code",
   "execution_count": 9,
   "metadata": {},
   "outputs": [
    {
     "name": "stdout",
     "output_type": "stream",
     "text": [
      "[1 2 3 4 5]\n"
     ]
    }
   ],
   "source": [
    "my_list = [1, 2, 3, 4, 5]\n",
    "my_numpy_list = np.array(my_list)\n",
    "print(my_numpy_list)          #This line show the result of the array generated\n"
   ]
  },
  {
   "cell_type": "markdown",
   "metadata": {},
   "source": [
    "Create some Arrays using builtin functions"
   ]
  },
  {
   "cell_type": "code",
   "execution_count": 12,
   "metadata": {},
   "outputs": [
    {
     "name": "stdout",
     "output_type": "stream",
     "text": [
      "[0. 0. 0.]\n",
      "[1. 1. 1. 1. 1.]\n",
      "[0 1 2 3 4]\n",
      "[1 3]\n"
     ]
    }
   ],
   "source": [
    "arr1 = np.zeros(3)\n",
    "arr2 = np.ones(5)\n",
    "arr3 = np.arange(5)\n",
    "arr4 = np.arange(1,4)    # To specify start and stop\n",
    "arr4 = np.arange(1,4,2)  # To specify start, stop and step size\n",
    "\n",
    "print(arr1)\n",
    "print(arr2)\n",
    "print(arr3)\n",
    "print(arr4)"
   ]
  },
  {
   "cell_type": "markdown",
   "metadata": {},
   "source": [
    "Generating an array of random numbers in NumPy"
   ]
  },
  {
   "cell_type": "code",
   "execution_count": 14,
   "metadata": {},
   "outputs": [
    {
     "name": "stdout",
     "output_type": "stream",
     "text": [
      "[0.97034194 0.33023961 0.34492708 0.82284477]\n"
     ]
    }
   ],
   "source": [
    "random_arr = np.random.rand(4)\n",
    "print(random_arr)"
   ]
  },
  {
   "cell_type": "markdown",
   "metadata": {},
   "source": [
    "Nd Array(N-Dimensional Array)"
   ]
  },
  {
   "cell_type": "code",
   "execution_count": 16,
   "metadata": {},
   "outputs": [
    {
     "name": "stdout",
     "output_type": "stream",
     "text": [
      "[[1 2 3]\n",
      " [4 5 6]]\n",
      "[[1 2 3]\n",
      " [4 5 6]\n",
      " [7 8 9]]\n",
      "[['a' 'b' 'c']\n",
      " ['d' 'e' 'f']]\n",
      "[[0. 0. 0.]\n",
      " [0. 0. 0.]\n",
      " [0. 0. 0.]]\n",
      "[[1 1]\n",
      " [1 1]]\n"
     ]
    }
   ],
   "source": [
    "arr1=np.array([[1,2,3],[4,5,6]])\n",
    "arr2=np.array([[1,2,3],[4,5,6],[7,8,9]])\n",
    "arr3=np.array([['a','b','c'],['d','e','f']])\n",
    "\n",
    "#creates a 3X3 array with all zeros\n",
    "zeros=np.zeros((3,3))\n",
    "\n",
    "#creates a 2X2 array with all ones\n",
    "ones=np.ones((2,2),dtype='int64')  #specify the type with (dtype) parameter \n",
    "\n",
    "print(arr1)\n",
    "print(arr2)\n",
    "print(arr3)\n",
    "print(zeros)\n",
    "print(ones)"
   ]
  },
  {
   "cell_type": "markdown",
   "metadata": {},
   "source": [
    "##### Array Indexing and Slicing"
   ]
  },
  {
   "cell_type": "code",
   "execution_count": 17,
   "metadata": {},
   "outputs": [
    {
     "name": "stdout",
     "output_type": "stream",
     "text": [
      "9\n",
      "10\n",
      "12\n",
      "9\n"
     ]
    }
   ],
   "source": [
    "#indexing\n",
    "\n",
    "arr1= np.array([9,10,11,12])\n",
    "print(arr1[0]) #prints element on 0th index\n",
    "print(arr1[1]) #prints element on 1st index\n",
    "print(arr1[-1]) #prints element on last index \n",
    "print(arr1[-4]) #print element on last 4th index"
   ]
  },
  {
   "cell_type": "code",
   "execution_count": 18,
   "metadata": {},
   "outputs": [
    {
     "name": "stdout",
     "output_type": "stream",
     "text": [
      "60\n",
      "20\n"
     ]
    }
   ],
   "source": [
    "#indexing in 2-d array\n",
    "\n",
    "\n",
    "two_d_array = np.array([[10,20,30], [40,50,60], [70,80,90]])\n",
    "print(two_d_array[1][2])   #prints the element in row index 1, and column index 2\n",
    "print(two_d_array[0,1])    #prints the elemnt in row index 0, and column index 1"
   ]
  },
  {
   "cell_type": "code",
   "execution_count": 19,
   "metadata": {},
   "outputs": [
    {
     "name": "stdout",
     "output_type": "stream",
     "text": [
      "[30 40 50]\n",
      "[20 40 60]\n",
      "[40 50 60 70 80]\n",
      "[10 20 30 40 50]\n",
      "[70 80]\n"
     ]
    }
   ],
   "source": [
    "#slicing\n",
    "\n",
    "arr2 = np.array([10,20,30,40,50,60,70,80])\n",
    "print(arr2[2:5])    #returns everything from index 2 to 5(exclusive) \n",
    "print(arr2[1:6:2])  #returns subarray with step size 2, from index 1 to 6(exclusive)\n",
    "print(arr2[3:])     #returns everything from index 3 to the end of the array.\n",
    "print(arr2[:5])     #returns everything from index 0 to 5(exclusive)\n",
    "print(arr2[-2:])    #returns everything from last 2nd second element to the end of array"
   ]
  },
  {
   "cell_type": "markdown",
   "metadata": {},
   "source": [
    "Numpy Array Shape and reshape"
   ]
  },
  {
   "cell_type": "code",
   "execution_count": 20,
   "metadata": {},
   "outputs": [
    {
     "name": "stdout",
     "output_type": "stream",
     "text": [
      "Shape of the array: (3, 2, 4)\n",
      "No of dimensions of the array: 3\n",
      "Total no of elements of the array: 24\n"
     ]
    }
   ],
   "source": [
    "#Shaping\n",
    "\n",
    "\n",
    "arr = np.array([[[0, 1, 2, 3],\n",
    "                 [4, 5, 6, 7]],\n",
    "\n",
    "                [[0, 1, 2, 3],\n",
    "                 [4, 5, 6, 7]],\n",
    "\n",
    "                 [[0 ,1 ,2, 3],\n",
    "                  [4, 5, 6, 7]]])\n",
    "\n",
    "print('Shape of the array:',arr.shape)              \n",
    "print('No of dimensions of the array:',arr.ndim)     \n",
    "print('Total no of elements of the array:',arr.size) "
   ]
  },
  {
   "cell_type": "code",
   "execution_count": 21,
   "metadata": {},
   "outputs": [
    {
     "name": "stdout",
     "output_type": "stream",
     "text": [
      "[[ 1  2  3]\n",
      " [ 4  5  6]\n",
      " [ 7  8  9]\n",
      " [10 11 12]]\n"
     ]
    }
   ],
   "source": [
    "#Reshaping\n",
    "\n",
    "\n",
    "arr1 = np.array([1, 2, 3, 4, 5, 6, 7, 8, 9, 10, 11, 12])\n",
    "reshaped_arr1 = arr1.reshape(4, 3) #from 1-d to 2-d\n",
    "print(reshaped_arr1)"
   ]
  },
  {
   "cell_type": "code",
   "execution_count": 22,
   "metadata": {},
   "outputs": [
    {
     "name": "stdout",
     "output_type": "stream",
     "text": [
      "[[[ 1  2]\n",
      "  [ 3  4]\n",
      "  [ 5  6]]\n",
      "\n",
      " [[ 7  8]\n",
      "  [ 9 10]\n",
      "  [11 12]]]\n"
     ]
    }
   ],
   "source": [
    "arr2 = np.array([1, 2, 3, 4, 5, 6, 7, 8, 9, 10, 11, 12])\n",
    "reshaped_arr2 = arr2.reshape(2,3,2) #from 1-d to 3-d\n",
    "print(reshaped_arr2)"
   ]
  },
  {
   "cell_type": "code",
   "execution_count": 23,
   "metadata": {},
   "outputs": [
    {
     "name": "stdout",
     "output_type": "stream",
     "text": [
      "[9 8 7 4 5 6]\n"
     ]
    }
   ],
   "source": [
    "#reshaping - from multi-dimension to 1-D\n",
    "\n",
    "\n",
    "arr = np.array([[9,8,7], [4, 5, 6]])\n",
    "reshaped_arr = arr.reshape(-1)\n",
    "print(reshaped_arr)"
   ]
  },
  {
   "cell_type": "markdown",
   "metadata": {},
   "source": [
    "Broadcasting"
   ]
  },
  {
   "cell_type": "code",
   "execution_count": 24,
   "metadata": {},
   "outputs": [
    {
     "name": "stdout",
     "output_type": "stream",
     "text": [
      "[50 50 50  4  5  6]\n"
     ]
    }
   ],
   "source": [
    "arr = np.array([1, 2, 3, 4, 5, 6])\n",
    "arr[0:3] = 50    #changes of value elements from index 0 to 3(exclusive) \n",
    "print(arr)"
   ]
  },
  {
   "cell_type": "markdown",
   "metadata": {},
   "source": [
    "##### Performing arithmetic operations on NumPy Arrays"
   ]
  },
  {
   "cell_type": "code",
   "execution_count": 25,
   "metadata": {},
   "outputs": [
    {
     "name": "stdout",
     "output_type": "stream",
     "text": [
      "[6 6 6 6]\n",
      "[2 2 2 2]\n",
      "[2. 2. 2. 2.]\n",
      "[8 8 8 8]\n",
      "[5 5 5 5]\n",
      "[1 1 1 1]\n",
      "[12 12 12 12]\n"
     ]
    }
   ],
   "source": [
    "#arithmetic operations\n",
    "\n",
    "\n",
    "arr1=np.array([4,4,4,4])\n",
    "arr2=np.array([2,2,2,2])\n",
    "print(arr1+arr2)       #adding each element of arr1 with its respective(same indexed) element of arr2\n",
    "print(arr1-arr2)       #substracting \n",
    "print(arr1/arr2)       #division\n",
    "print(arr1*arr2)       #multiplication\n",
    "\n",
    "print(arr1+1)          #Adding one to all elements\n",
    "print(arr2-1)          #Subtracting one from all elements\n",
    "print(arr1*3)          #multiplying 3 to all elements"
   ]
  },
  {
   "cell_type": "markdown",
   "metadata": {},
   "source": [
    "How To Insert And Delete Array Elements"
   ]
  },
  {
   "cell_type": "code",
   "execution_count": 26,
   "metadata": {},
   "outputs": [
    {
     "name": "stdout",
     "output_type": "stream",
     "text": [
      "[1 5 2 3 4]\n",
      "[1 3 4]\n",
      "[1 2 3 4 9]\n"
     ]
    }
   ],
   "source": [
    "#Insert element in array\n",
    "\n",
    "\n",
    "arr = np.array([1, 2, 3, 4])\n",
    "print(np.insert(arr, 1, 5))\n",
    "\n",
    "#delete element in array\n",
    "\n",
    "print(np.delete(arr,1))\n",
    "\n",
    "#append element in array\n",
    "\n",
    "print(np.append(arr,9))"
   ]
  },
  {
   "cell_type": "markdown",
   "metadata": {},
   "source": [
    "##### Some mathematical function"
   ]
  },
  {
   "cell_type": "code",
   "execution_count": 27,
   "metadata": {},
   "outputs": [
    {
     "name": "stdout",
     "output_type": "stream",
     "text": [
      "21\n",
      "6\n",
      "1\n"
     ]
    }
   ],
   "source": [
    "arr = np.array([1, 2, 3, 4, 5, 6])\n",
    "print(np.sum(arr))  #sum\n",
    "\n",
    "print(np.max(arr))  #max value\n",
    "\n",
    "print(np.min(arr))  #min value"
   ]
  },
  {
   "cell_type": "code",
   "execution_count": 28,
   "metadata": {},
   "outputs": [
    {
     "name": "stdout",
     "output_type": "stream",
     "text": [
      "mean of the given array :  21.583333333333332\n",
      "median of the given array :  18.5\n"
     ]
    }
   ],
   "source": [
    "arr=np.array([19,13,18,21,44,17,12,31,37,8,12,27])\n",
    "\n",
    "x=np.mean(arr)\n",
    "print(\"mean of the given array : \",x)\n",
    "\n",
    "y = np.median(arr)\n",
    "print(\"median of the given array : \", y)"
   ]
  },
  {
   "cell_type": "markdown",
   "metadata": {},
   "source": [
    "##### Numpy Sorting, searching, and Counting"
   ]
  },
  {
   "cell_type": "code",
   "execution_count": 29,
   "metadata": {},
   "outputs": [
    {
     "name": "stdout",
     "output_type": "stream",
     "text": [
      "Along first axis : \n",
      " [[10  1]\n",
      " [12 15]]\n",
      "\n",
      "Along first axis : \n",
      " [[10 15]\n",
      " [ 1 12]]\n",
      "\n",
      "Along none axis : \n",
      " [ 1 10 12 15]\n"
     ]
    }
   ],
   "source": [
    "# sort along the first axis\n",
    "\n",
    "narr1 = np.array([[12, 15], [10, 1]])\n",
    "arr1 = np.sort(narr1, axis = 0)        \n",
    "print (\"Along first axis : \\n\", arr1) \n",
    "\n",
    "# sort along the last axis\n",
    "\n",
    "narr2 = np.array([[10, 15], [12, 1]])\n",
    "arr2 = np.sort(narr2, axis = -1)        \n",
    "print (\"\\nAlong first axis : \\n\", arr2)\n",
    "\n",
    "narr3 = np.array([[12, 15], [10, 1]])\n",
    "arr1 = np.sort(narr3, axis = None)        \n",
    "print (\"\\nAlong none axis : \\n\", arr1)"
   ]
  },
  {
   "cell_type": "code",
   "execution_count": 30,
   "metadata": {},
   "outputs": [
    {
     "name": "stdout",
     "output_type": "stream",
     "text": [
      "(array([3, 5, 6], dtype=int64),)\n",
      "(array([1, 3, 5, 6], dtype=int64),)\n",
      "(array([0, 2, 4], dtype=int64),)\n"
     ]
    }
   ],
   "source": [
    "# Searching:\n",
    "arr1 = np.array([1, 2, 3, 4, 5, 4, 4])\n",
    "x = np.where(arr1 == 4)\n",
    "y = np.where(arr1%2 == 0)\n",
    "z = np.where(arr1%2 == 1)\n",
    "print(x)\n",
    "print(y)\n",
    "print(z)"
   ]
  },
  {
   "cell_type": "code",
   "execution_count": 32,
   "metadata": {},
   "outputs": [
    {
     "name": "stdout",
     "output_type": "stream",
     "text": [
      "Number of nonzero values is : 5\n",
      "Number of nonzero values is : [1 1 1 1 1]\n"
     ]
    }
   ],
   "source": [
    "#Counting\n",
    "# Counting a number of non-zero values\n",
    "a = np.count_nonzero([[0,1,7,0,0],[3,0,0,2,19]])\n",
    "b = np.count_nonzero([[0,1,7,0,0],[3,0,0,2,19]],axis=0)\n",
    "print(\"Number of nonzero values is :\",a)\n",
    "print(\"Number of nonzero values is :\",b)"
   ]
  },
  {
   "cell_type": "markdown",
   "metadata": {},
   "source": [
    "#### Joining Numpy Arrays\n"
   ]
  },
  {
   "cell_type": "code",
   "execution_count": 33,
   "metadata": {},
   "outputs": [
    {
     "name": "stdout",
     "output_type": "stream",
     "text": [
      "[1 2 3 4 5 6]\n"
     ]
    }
   ],
   "source": [
    "#Join two arrays\n",
    "arr1 = np.array([1, 2, 3])\n",
    "arr2 = np.array([4, 5, 6])\n",
    "arr = np.concatenate((arr1, arr2))\n",
    "print(arr)"
   ]
  },
  {
   "cell_type": "code",
   "execution_count": 34,
   "metadata": {},
   "outputs": [
    {
     "name": "stdout",
     "output_type": "stream",
     "text": [
      "[[1 2 5 6]\n",
      " [3 4 7 8]]\n"
     ]
    }
   ],
   "source": [
    "#Join two 2-D arrays along rows (axis=1)\n",
    "arr1 = np.array([[1, 2], [3, 4]])\n",
    "arr2 = np.array([[5, 6], [7, 8]])\n",
    "arr = np.concatenate((arr1, arr2), axis=1)\n",
    "print(arr)"
   ]
  },
  {
   "cell_type": "code",
   "execution_count": 35,
   "metadata": {},
   "outputs": [
    {
     "name": "stdout",
     "output_type": "stream",
     "text": [
      "[[1 4]\n",
      " [2 5]\n",
      " [3 6]]\n"
     ]
    }
   ],
   "source": [
    "# Joining Arrays using stack function\n",
    "arr1 = np.array([1, 2, 3])\n",
    "arr2 = np.array([4, 5, 6])\n",
    "arr = np.stack((arr1, arr2), axis=1)\n",
    "print(arr)"
   ]
  },
  {
   "cell_type": "markdown",
   "metadata": {},
   "source": [
    "#### Comparison and Copying"
   ]
  },
  {
   "cell_type": "code",
   "execution_count": 36,
   "metadata": {},
   "outputs": [
    {
     "name": "stdout",
     "output_type": "stream",
     "text": [
      "True\n"
     ]
    }
   ],
   "source": [
    "an_array = np.array([[1, 2], [3, 4]])\n",
    "another_array = np.array([[1, 2], [3, 4]])\n",
    "comparison = an_array == another_array\n",
    "equal_arrays = comparison.all()\n",
    "print(equal_arrays)"
   ]
  },
  {
   "cell_type": "code",
   "execution_count": 40,
   "metadata": {},
   "outputs": [
    {
     "name": "stdout",
     "output_type": "stream",
     "text": [
      "[42  2  3  4  5]\n",
      "[1 2 3 4 5]\n"
     ]
    }
   ],
   "source": [
    "# Copying\n",
    "arr = np.array([1, 2, 3, 4, 5])\n",
    "x = arr.copy()\n",
    "arr[0] = 42\n",
    "print(arr)\n",
    "print(x)\n"
   ]
  },
  {
   "cell_type": "markdown",
   "metadata": {},
   "source": [
    "#### Visual Representation"
   ]
  },
  {
   "cell_type": "code",
   "execution_count": 41,
   "metadata": {},
   "outputs": [
    {
     "name": "stdout",
     "output_type": "stream",
     "text": [
      "[3 4 5 2 1]\n",
      "[  0  20  40  60  80 100]\n"
     ]
    }
   ],
   "source": [
    "a = np.array([22,87,5,43,56,73,55,54,11,20,51,5,79,31,27]) \n",
    "np.histogram(a,bins = [0,20,40,60,80,100]) \n",
    "hist,bins = np.histogram(a,bins = [0,20,40,60,80,100]) \n",
    "print(hist) \n",
    "print(bins)"
   ]
  },
  {
   "cell_type": "code",
   "execution_count": 42,
   "metadata": {},
   "outputs": [
    {
     "data": {
      "image/png": "[encoded data removed]",
      "text/plain": [
       "<Figure size 432x288 with 1 Axes>"
      ]
     },
     "metadata": {
      "needs_background": "light"
     },
     "output_type": "display_data"
    }
   ],
   "source": [
    "from matplotlib import pyplot as plt \n",
    "a = np.array([22,87,5,43,56,73,55,54,11,20,51,5,79,31,27])\n",
    "plt.hist(a, bins = [0,20,40,60,80,100]) \n",
    "plt.title(\"histogram\") \n",
    "plt.show()\n"
   ]
  },
  {
   "cell_type": "markdown",
   "metadata": {},
   "source": [
    "# THANK YOU"
   ]
  }
 ],
 "metadata": {
  "kernelspec": {
   "display_name": "Python 3",
   "language": "python",
   "name": "python3"
  },
  "language_info": {
   "codemirror_mode": {
    "name": "ipython",
    "version": 3
   },
   "file_extension": ".py",
   "mimetype": "text/x-python",
   "name": "python",
   "nbconvert_exporter": "python",
   "pygments_lexer": "ipython3",
   "version": "3.8.3"
  }
 },
 "nbformat": 4,
 "nbformat_minor": 4
}
